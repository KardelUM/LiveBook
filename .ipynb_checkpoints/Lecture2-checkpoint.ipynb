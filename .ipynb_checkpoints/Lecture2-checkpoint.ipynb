{
 "cells": [
  {
   "cell_type": "markdown",
   "id": "8506cc17",
   "metadata": {},
   "source": [
    "# **Plotting in MATLAB** "
   ]
  },
  {
   "cell_type": "markdown",
   "id": "bdeb1886",
   "metadata": {},
   "source": [
    "This lecture will cover some of the plotting options in MATLAB. We will continue to use the Framingham data set from the previous lecture. "
   ]
  },
  {
   "cell_type": "code",
   "execution_count": null,
   "id": "51dc7d96",
   "metadata": {},
   "outputs": [],
   "source": [
    "fram = readtable('../frmgham.xls'); "
   ]
  },
  {
   "cell_type": "markdown",
   "id": "b5218567",
   "metadata": {},
   "source": [
    "For simplifying the following plotting exercises, we will just look at the first 100 patients in the data set. "
   ]
  },
  {
   "cell_type": "code",
   "execution_count": null,
   "id": "6f5a6a9c",
   "metadata": {},
   "outputs": [],
   "source": [
    "fram = head(fram,100); "
   ]
  },
  {
   "cell_type": "markdown",
   "id": "c127edea",
   "metadata": {},
   "source": []
  },
  {
   "cell_type": "markdown",
   "id": "38efbe08",
   "metadata": {},
   "source": [
    "## Plotting data sets "
   ]
  },
  {
   "cell_type": "markdown",
   "id": "26caafcb",
   "metadata": {},
   "source": [
    "There are many different ways to plot data in MATLAB and also several ways to generate these figures. Let's start by looking at the Age data from our revised Framingham data set. "
   ]
  },
  {
   "cell_type": "code",
   "execution_count": null,
   "id": "f9d0f85e",
   "metadata": {},
   "outputs": [],
   "source": [
    "age = fram.AGE; "
   ]
  },
  {
   "cell_type": "markdown",
   "id": "20eadabb",
   "metadata": {},
   "source": []
  },
  {
   "cell_type": "markdown",
   "id": "470f4688",
   "metadata": {},
   "source": [
    "Now that we have the Age array saved as a variable, there are two ways to plot it: "
   ]
  },
  {
   "cell_type": "markdown",
   "id": "ac73ce1a",
   "metadata": {},
   "source": [
    "**Option 1:** Select the variable in the Workspace, go to *Plots* tab, and select one of the plot options, such as 2-D line graph. "
   ]
  },
  {
   "cell_type": "markdown",
   "id": "c4bdbd86",
   "metadata": {},
   "source": []
  },
  {
   "cell_type": "markdown",
   "id": "dd5c6b17",
   "metadata": {},
   "source": [
    "MATLAB will then create the plot for you in a new figure window and display the corresponding plotting command in the Command Window. "
   ]
  },
  {
   "cell_type": "markdown",
   "id": "e3fb563c",
   "metadata": {},
   "source": [
    "**Option 2:** Use the `plot` command: "
   ]
  },
  {
   "cell_type": "code",
   "execution_count": null,
   "id": "c8af8820",
   "metadata": {},
   "outputs": [],
   "source": [
    "plot(age) "
   ]
  },
  {
   "cell_type": "markdown",
   "id": "e689cb72",
   "metadata": {},
   "source": []
  },
  {
   "cell_type": "markdown",
   "id": "e4dae8c8",
   "metadata": {},
   "source": [
    "The figure includes the ages of all 100 patients, with age given on the y-axis and the index on the x-axis. Clearly we need to add some information to this plot and find a better way to display the data. "
   ]
  },
  {
   "cell_type": "markdown",
   "id": "d1d01892",
   "metadata": {},
   "source": [
    "When viewing the plot in a figure window, we can use the *Inser* t tab to add elements such as axis labels and titles. When you are done adding these features, there is an option to generate the code for these changes (click *File* then *Generate Code)* . "
   ]
  },
  {
   "cell_type": "markdown",
   "id": "69ef38c3",
   "metadata": {},
   "source": [
    "As we saw, plotting with one variable outputs the index on the x-axis. However, the `plot` command is typically used with two variables. Let's plot Age vs. BMI. First store the BMI data in an array. "
   ]
  },
  {
   "cell_type": "code",
   "execution_count": null,
   "id": "6c57e7cf",
   "metadata": {},
   "outputs": [],
   "source": [
    "BMI = fram.BMI; "
   ]
  },
  {
   "cell_type": "markdown",
   "id": "db0f90c6",
   "metadata": {},
   "source": []
  },
  {
   "cell_type": "markdown",
   "id": "a5b964df",
   "metadata": {},
   "source": [
    "In addition to adding this variable, we should include axis labels and a title to our plot. Because we are using discrete data points, it also makes sense to use a different marker symbol as opposed to a line. "
   ]
  },
  {
   "cell_type": "code",
   "execution_count": null,
   "id": "37358b4c",
   "metadata": {},
   "outputs": [],
   "source": [
    "plot(age,BMI,'ro')\n",
    "xlabel('Age')\n",
    "ylabel('BMI')\n",
    "title('Patient Age vs BMI') "
   ]
  },
  {
   "cell_type": "markdown",
   "id": "89fefa1e",
   "metadata": {},
   "source": []
  },
  {
   "cell_type": "markdown",
   "id": "1d171a62",
   "metadata": {},
   "source": [
    "## **Log-Log** "
   ]
  },
  {
   "cell_type": "markdown",
   "id": "fa4dd14d",
   "metadata": {},
   "source": [
    "The `loglog` function simply generates a plot with a log scale on both axes. This may not necessarily be a useful tool for the variables in the Framingham data set, but let's try it on the Glucose data as an example. "
   ]
  },
  {
   "cell_type": "code",
   "execution_count": null,
   "id": "91bdaa5b",
   "metadata": {},
   "outputs": [],
   "source": [
    "loglog(fram.GLUCOSE,'o')\n",
    "grid on "
   ]
  },
  {
   "cell_type": "markdown",
   "id": "1218925b",
   "metadata": {},
   "source": []
  },
  {
   "cell_type": "markdown",
   "id": "03f2b44f",
   "metadata": {},
   "source": [
    "## **Bar Graphs** "
   ]
  },
  {
   "cell_type": "markdown",
   "id": "b6e32946",
   "metadata": {},
   "source": [
    "Bar graphs are useful for comparing data from different groups. "
   ]
  },
  {
   "cell_type": "markdown",
   "id": "3e0f59df",
   "metadata": {},
   "source": [
    "Let's start with a simple example: use the `bar` command to create a graph showing the age of the first ten patients and another graph showing the BMI of the same group. "
   ]
  },
  {
   "cell_type": "code",
   "execution_count": null,
   "id": "cbea1827",
   "metadata": {},
   "outputs": [],
   "source": [
    "bar(age(1:10))\n",
    "xlabel(\"Patient\")\n",
    "ylabel(\"Age\") "
   ]
  },
  {
   "cell_type": "markdown",
   "id": "2e5a1f05",
   "metadata": {},
   "source": []
  },
  {
   "cell_type": "code",
   "execution_count": null,
   "id": "fac4b64a",
   "metadata": {},
   "outputs": [],
   "source": [
    "bar(BMI(1:10))\n",
    "xlabel(\"Patient\")\n",
    "ylabel(\"BMI\") "
   ]
  },
  {
   "cell_type": "markdown",
   "id": "a313a7b0",
   "metadata": {},
   "source": [
    "Note that the BMI for Patient 2 is missing. "
   ]
  },
  {
   "cell_type": "markdown",
   "id": "a08dbe53",
   "metadata": {},
   "source": []
  },
  {
   "cell_type": "markdown",
   "id": "578d9cb6",
   "metadata": {},
   "source": [
    "For a more complicated example, create a bar graph that looks at gender versus average cigarettes smoked per day. First, we must create our bar graph categories and specify the order in which they will display: "
   ]
  },
  {
   "cell_type": "code",
   "execution_count": null,
   "id": "49877cc4",
   "metadata": {},
   "outputs": [],
   "source": [
    "sex = categorical({'male','female'});\n",
    "sex = reordercats(sex,{'male','female'}) "
   ]
  },
  {
   "cell_type": "markdown",
   "id": "e11c2461",
   "metadata": {},
   "source": []
  },
  {
   "cell_type": "markdown",
   "id": "ac5d822f",
   "metadata": {},
   "source": [
    "Next, extract the cigarettes per day data for each gender and find the mean values. In the Framingham data set, males are represented by a 1 and females by a 2. Also, note that we must convert from a table to an array in order to use the *mean* function. "
   ]
  },
  {
   "cell_type": "code",
   "execution_count": null,
   "id": "0b4e4449",
   "metadata": {},
   "outputs": [],
   "source": [
    "male_cigs = table2array(fram(fram.SEX == 1,'CIGPDAY'));\n",
    "female_cigs = table2array(fram(fram.SEX == 2,'CIGPDAY'));\n",
    "\n",
    "mean_male_cigs = mean(male_cigs);\n",
    "mean_female_cigs = mean(female_cigs);\n",
    "mean_cigs = [mean_male_cigs,mean_female_cigs] "
   ]
  },
  {
   "cell_type": "markdown",
   "id": "7a66b2df",
   "metadata": {},
   "source": []
  },
  {
   "cell_type": "markdown",
   "id": "80d4c557",
   "metadata": {},
   "source": [
    "Finally, create the bar graph with the *bar* command. Let's make the bars blue and the bar width set to half of the available space. "
   ]
  },
  {
   "cell_type": "code",
   "execution_count": null,
   "id": "1fe8e1bd",
   "metadata": {},
   "outputs": [],
   "source": [
    "bar(sex,mean_cigs,0.5,'blue')\n",
    "xlabel('Gender');\n",
    "ylabel('Average Cigarettes Smoked Per Day');\n",
    "title('Gender vs. Smoking Habits') "
   ]
  },
  {
   "cell_type": "markdown",
   "id": "87d49f1b",
   "metadata": {},
   "source": []
  },
  {
   "cell_type": "markdown",
   "id": "556214f0",
   "metadata": {},
   "source": [
    "## **Pie Chart** "
   ]
  },
  {
   "cell_type": "markdown",
   "id": "50154c5e",
   "metadata": {},
   "source": [
    "Pie charts are useful for looking at the composition of a group. "
   ]
  },
  {
   "cell_type": "markdown",
   "id": "4e57f73d",
   "metadata": {},
   "source": [
    "Let's create a pie chart which shows the gender distribution of the first 20 patients. The first step is to create an array which contains the quantity of each gender using the `sum` function. "
   ]
  },
  {
   "cell_type": "code",
   "execution_count": null,
   "id": "6c73eeb8",
   "metadata": {},
   "outputs": [],
   "source": [
    "gender_count = [sum(fram.SEX(1:20) == 1),sum(fram.SEX(1:20) == 2)] "
   ]
  },
  {
   "cell_type": "markdown",
   "id": "d41726fc",
   "metadata": {},
   "source": []
  },
  {
   "cell_type": "markdown",
   "id": "9a027573",
   "metadata": {},
   "source": [
    "The `pie` function can then be used to display the elements of this matrix as a pie chart. "
   ]
  },
  {
   "cell_type": "code",
   "execution_count": null,
   "id": "be257eba",
   "metadata": {},
   "outputs": [],
   "source": [
    "pie(gender_count)\n",
    "legend({'Males','Females'})\n",
    "title('Gender Distribution') "
   ]
  },
  {
   "cell_type": "markdown",
   "id": "d501b90d",
   "metadata": {},
   "source": []
  },
  {
   "cell_type": "markdown",
   "id": "520f253c",
   "metadata": {},
   "source": [
    "Now we will make a pie chart which shows the education levels (1 to 4) for all 100 patients. Again, the first step is extracting these four values and putting them into an array. We will use a for loop to create this array. "
   ]
  },
  {
   "cell_type": "code",
   "execution_count": null,
   "id": "10b15150",
   "metadata": {},
   "outputs": [],
   "source": [
    "for i=1:4\n",
    "    education_count(i)=sum(fram.educ==i);\n",
    "end\n",
    "education_count "
   ]
  },
  {
   "cell_type": "markdown",
   "id": "b7aac960",
   "metadata": {},
   "source": []
  },
  {
   "cell_type": "markdown",
   "id": "4b2174b4",
   "metadata": {},
   "source": [
    "We need to make sure that the sum of our array elements is equal to 100, as we want to make sure the entire patient group is represented in the pie chart "
   ]
  },
  {
   "cell_type": "code",
   "execution_count": null,
   "id": "9b5a5b42",
   "metadata": {},
   "outputs": [],
   "source": [
    "sum(education_count) "
   ]
  },
  {
   "cell_type": "markdown",
   "id": "bfb8e800",
   "metadata": {},
   "source": []
  },
  {
   "cell_type": "markdown",
   "id": "82adffca",
   "metadata": {},
   "source": [
    "We know that the Framingham data set contains some missing values. Confirm that this is the case with our education data. "
   ]
  },
  {
   "cell_type": "code",
   "execution_count": null,
   "id": "74307c75",
   "metadata": {},
   "outputs": [],
   "source": [
    "nan = sum(isnan(fram.educ)) "
   ]
  },
  {
   "cell_type": "markdown",
   "id": "d5a4fb4f",
   "metadata": {},
   "source": []
  },
  {
   "cell_type": "markdown",
   "id": "2dd65bb2",
   "metadata": {},
   "source": [
    "As expected, we are missing six data points, which would bring the total to 100. Add the missing data count to the education array so that it is incorported into the pie chart. "
   ]
  },
  {
   "cell_type": "code",
   "execution_count": null,
   "id": "8b24911e",
   "metadata": {},
   "outputs": [],
   "source": [
    "education_count(5) = nan;\n",
    "education_count "
   ]
  },
  {
   "cell_type": "markdown",
   "id": "fca20c4d",
   "metadata": {},
   "source": []
  },
  {
   "cell_type": "markdown",
   "id": "7b6e8858",
   "metadata": {},
   "source": [
    "We are finally ready to make the pie chart. "
   ]
  },
  {
   "cell_type": "code",
   "execution_count": null,
   "id": "db1602cc",
   "metadata": {},
   "outputs": [],
   "source": [
    "labels = {'1', '2', '3', '4','No Data'}\n",
    "pie(education_count)\n",
    "legend(labels)\n",
    "title('Framingham Education Levels') "
   ]
  },
  {
   "cell_type": "markdown",
   "id": "3e492cc8",
   "metadata": {},
   "source": []
  },
  {
   "cell_type": "markdown",
   "id": "78ec3733",
   "metadata": {},
   "source": [
    "## **Histograms** "
   ]
  },
  {
   "cell_type": "markdown",
   "id": "f0efa88f",
   "metadata": {},
   "source": [
    "Histograms are used to look at the distribution of continuous data. The data set is displayed as a series of bins, which we can adjust to our preferences. "
   ]
  },
  {
   "cell_type": "markdown",
   "id": "bdb84964",
   "metadata": {},
   "source": [
    "Use the `histogram` command to look at the distribution of age in the 100 patients (we created a 2-D line plot of this data earlier in the lesson). "
   ]
  },
  {
   "cell_type": "code",
   "execution_count": null,
   "id": "d9a09784",
   "metadata": {},
   "outputs": [],
   "source": [
    "histogram(age)\n",
    "xlabel(\"Age\")\n",
    "ylabel(\"Frequency\") "
   ]
  },
  {
   "cell_type": "markdown",
   "id": "2f0cb00a",
   "metadata": {},
   "source": []
  },
  {
   "cell_type": "markdown",
   "id": "6e60d693",
   "metadata": {},
   "source": [
    "The histogram plot is much more informative and easier to read than our original 2-D line plot from earlier in the lesson. We can easily see which ages are more common and determine if the distribution is fairly normal. "
   ]
  },
  {
   "cell_type": "markdown",
   "id": "cfcef93f",
   "metadata": {},
   "source": [
    "Next, create a histogram showing the heart rate distribution and assign it to a variable, *HR_histogram* . "
   ]
  },
  {
   "cell_type": "code",
   "execution_count": null,
   "id": "c2a7c58a",
   "metadata": {},
   "outputs": [],
   "source": [
    "HR_histogram = histogram(fram.HEARTRTE);\n",
    "xlabel('Heart Rate, bpm')\n",
    "ylabel('Frequency') "
   ]
  },
  {
   "cell_type": "markdown",
   "id": "19fef3c8",
   "metadata": {},
   "source": []
  },
  {
   "cell_type": "markdown",
   "id": "b08bff5a",
   "metadata": {},
   "source": [
    "By assigning the histogram to a variable, we can now use dot notation to adjust the plot properties. Break down the data into 10 bins (using `.NumBins` ) and change the bin color (using `.FaceColor` ). "
   ]
  },
  {
   "cell_type": "code",
   "execution_count": null,
   "id": "4bdccd75",
   "metadata": {},
   "outputs": [],
   "source": [
    "HR_histogram.NumBins = 10;\n",
    "HR_histogram.FaceColor = 'cyan'; "
   ]
  },
  {
   "cell_type": "markdown",
   "id": "491c7b2a",
   "metadata": {},
   "source": []
  },
  {
   "cell_type": "markdown",
   "id": "f821ba62",
   "metadata": {},
   "source": [
    "Another useful feature of the `histogram` command in MATLAB is the ability to compare two distributions in the same figure. For example, we can look at the distribution of total cholesterol in males versus females. Create an array containing the cholesterol data for males and add the code \" `hold on\"` afterwards. "
   ]
  },
  {
   "cell_type": "code",
   "execution_count": null,
   "id": "07f80a78",
   "metadata": {},
   "outputs": [],
   "source": [
    "male_cholesterol = fram.TOTCHOL(fram.SEX==1);\n",
    "histogram(male_cholesterol, 10)\n",
    "xlabel(\"Cholesterol\")\n",
    "ylabel(\"Frequency\")\n",
    "hold on "
   ]
  },
  {
   "cell_type": "markdown",
   "id": "c33e3fb4",
   "metadata": {},
   "source": []
  },
  {
   "cell_type": "markdown",
   "id": "9b45556d",
   "metadata": {},
   "source": [
    "Now create a histogram for the female cholesterol data. The histogram should be added on top of the previous plot "
   ]
  },
  {
   "cell_type": "code",
   "execution_count": null,
   "id": "4a702a80",
   "metadata": {},
   "outputs": [],
   "source": [
    "female_cholesterol = fram.TOTCHOL(fram.SEX == 2);\n",
    "histogram(female_cholesterol, 10)\n",
    "hold off "
   ]
  },
  {
   "cell_type": "markdown",
   "id": "3b3fd1d1",
   "metadata": {},
   "source": []
  },
  {
   "cell_type": "markdown",
   "id": "1d7cbfca",
   "metadata": {},
   "source": [
    "## Boxplots "
   ]
  },
  {
   "cell_type": "markdown",
   "id": "8ebc60b2",
   "metadata": {},
   "source": [
    "Boxplots are also helpful for looking at data distribution. In addition to showing the shape of the distribution, boxplots display the median value, the interquartile range, minimum/maxmimum values, and outlier points. "
   ]
  },
  {
   "cell_type": "markdown",
   "id": "1788fb6a",
   "metadata": {},
   "source": [
    "Use the `boxplot` command to examine total cholesterol versus sex. "
   ]
  },
  {
   "cell_type": "code",
   "execution_count": null,
   "id": "c1632298",
   "metadata": {},
   "outputs": [],
   "source": [
    "boxplot(fram.TOTCHOL,fram.SEX,'Labels',{'Male','Female'})\n",
    "xlabel('Gender')\n",
    "ylabel('Total Cholesterol') "
   ]
  },
  {
   "cell_type": "markdown",
   "id": "be1c9698",
   "metadata": {},
   "source": []
  },
  {
   "cell_type": "markdown",
   "id": "e3607a83",
   "metadata": {},
   "source": [
    "As another example, create a boxplot showing how blood glucose varies between the patients without diabetes (0) and with diabetes (1). "
   ]
  },
  {
   "cell_type": "code",
   "execution_count": null,
   "id": "b7d61d02",
   "metadata": {},
   "outputs": [],
   "source": [
    "boxplot(fram.GLUCOSE,fram.DIABETES,'Labels',{'Non-Diabetic','Diabetic'})\n",
    "xlabel('Diabetes Status')\n",
    "ylabel('Blood Glucose Level') "
   ]
  },
  {
   "cell_type": "markdown",
   "id": "55094242",
   "metadata": {},
   "source": []
  },
  {
   "cell_type": "markdown",
   "id": "2bec1b3a",
   "metadata": {},
   "source": [
    "## Correlation "
   ]
  },
  {
   "cell_type": "markdown",
   "id": "c4c33cf6",
   "metadata": {},
   "source": [
    "MATLAB has many tools for examining the relationship between variables. Use the `lsline` command to plot the least squares regression line for systolic and diastolic blood pressure. "
   ]
  },
  {
   "cell_type": "code",
   "execution_count": null,
   "id": "51ece7f4",
   "metadata": {},
   "outputs": [],
   "source": [
    "scatter(fram.SYSBP,fram.DIABP)\n",
    "lsline\n",
    "xlabel('Systolic BP, mmHg');\n",
    "ylabel('Diastolic BP, mmHg'); "
   ]
  },
  {
   "cell_type": "markdown",
   "id": "c128d93a",
   "metadata": {},
   "source": []
  },
  {
   "cell_type": "markdown",
   "id": "ea6ee0ff",
   "metadata": {},
   "source": [
    "Next, use the `corr` function to calculate the correlation coefficient between systolic and diastolic blood pressure. The correlation coefficient, *r,* indicates the strength and direction of the relationship between the two variables. "
   ]
  },
  {
   "cell_type": "code",
   "execution_count": null,
   "id": "d770150e",
   "metadata": {},
   "outputs": [],
   "source": [
    "r = corr(fram.SYSBP,fram.DIABP) "
   ]
  },
  {
   "cell_type": "markdown",
   "id": "11cf4d2c",
   "metadata": {},
   "source": []
  },
  {
   "cell_type": "markdown",
   "id": "ee11e7ae",
   "metadata": {},
   "source": [
    "The coefficient of determination, $r^2$ , is equal to the correlation coefficient raised to the power of 2: "
   ]
  },
  {
   "cell_type": "code",
   "execution_count": null,
   "id": "4db01501",
   "metadata": {},
   "outputs": [],
   "source": [
    "r ^ 2 "
   ]
  },
  {
   "cell_type": "markdown",
   "id": "9bd08c27",
   "metadata": {},
   "source": [
    "The coefficient of determination measures the amount of variance of one variable that can be explained by the other. In our example, $r^2$ is equal to 0.5519. This means that 55.2% of the variance in the diastolic blood pressure can be explained by the systolic blood pressure data. This can be used as an indicator for how good of a fit the least squares regression line is. "
   ]
  },
  {
   "cell_type": "markdown",
   "id": "9cb18274",
   "metadata": {},
   "source": []
  },
  {
   "cell_type": "markdown",
   "id": "0b7e48ba",
   "metadata": {},
   "source": [
    "For another example, we will determine the coefficients of correlation and determination between BMI and blood glucose levels. "
   ]
  },
  {
   "cell_type": "markdown",
   "id": "59eae228",
   "metadata": {},
   "source": [
    "Previous work with these variables showed that there is data missing from both the BMI and Glucose data sets. We must specify for the `corr` function to only use rows that do not have missing values. "
   ]
  },
  {
   "cell_type": "code",
   "execution_count": null,
   "id": "beb397fc",
   "metadata": {},
   "outputs": [],
   "source": [
    "r_BMI_glucose = corr(fram.BMI,fram.GLUCOSE,\"rows\",\"complete\")\n",
    "r2_BMI_glucose = r_BMI_glucose .^ 2 "
   ]
  },
  {
   "cell_type": "markdown",
   "id": "31661481",
   "metadata": {},
   "source": []
  },
  {
   "cell_type": "markdown",
   "id": "37e6d807",
   "metadata": {},
   "source": [
    "The correlation between these two variables is not nearly as strong as in the previous example with the systolic and diastolic blood pressures. Create a scatter plot and least-squares line to better visualize the relationship between BMI and blood glucose levels. "
   ]
  },
  {
   "cell_type": "code",
   "execution_count": null,
   "id": "e4216801",
   "metadata": {},
   "outputs": [],
   "source": [
    "scatter(fram.BMI, fram.GLUCOSE)\n",
    "lsline "
   ]
  },
  {
   "cell_type": "markdown",
   "id": "4a6413db",
   "metadata": {},
   "source": []
  },
  {
   "cell_type": "markdown",
   "id": "39a54fec",
   "metadata": {},
   "source": [
    "## Visualizing Distributions "
   ]
  },
  {
   "cell_type": "markdown",
   "id": "524f1e9d",
   "metadata": {},
   "source": [
    "The `gscatter` function allows us to plot two variables against each other, such as Glucose and BMI, and then separate those data points by group. The grouping variable must be in the form of a categorical variable, such as Diabetes. "
   ]
  },
  {
   "cell_type": "markdown",
   "id": "886ace42",
   "metadata": {},
   "source": [
    "Use `gscatter` to plot glucose versus BMI, grouped by diabetes. "
   ]
  },
  {
   "cell_type": "code",
   "execution_count": null,
   "id": "3e5f5958",
   "metadata": {},
   "outputs": [],
   "source": [
    "gscatter(fram.GLUCOSE, fram.BMI, fram.DIABETES)\n",
    "xlabel('Glucose')\n",
    "ylabel('BMI')\n",
    "legend('Non-Diabetic','Diabetic') "
   ]
  },
  {
   "cell_type": "markdown",
   "id": "4a55611b",
   "metadata": {},
   "source": [
    "In this example, `gscatter` makes it easy to see that essentially all of the data points at high glucose levels belong to patients with diabetes. "
   ]
  },
  {
   "cell_type": "markdown",
   "id": "b35841e6",
   "metadata": {},
   "source": [
    "Repeat this process with systolic blood pressure versus total cholesterol, grouped by cardiovascular disease. "
   ]
  },
  {
   "cell_type": "markdown",
   "id": "8d0c0015",
   "metadata": {},
   "source": []
  },
  {
   "cell_type": "code",
   "execution_count": null,
   "id": "323dcdf8",
   "metadata": {},
   "outputs": [],
   "source": [
    "gscatter(fram.SYSBP,fram.TOTCHOL,fram.CVD)\n",
    "xlabel('Systolic Blood Pressure')\n",
    "ylabel('Total Cholesterol') "
   ]
  },
  {
   "cell_type": "markdown",
   "id": "fbfe7fa6",
   "metadata": {},
   "source": [
    "Unlike the last example, there aren't any apparents trends between the data groups. Upon close inspection, it appears that a slight majority of patients with higher blood pressure also suffered from CVD. In some cases, we may want to use this tool to help confirm that the data points are equally distributed throughout the different categories. "
   ]
  },
  {
   "cell_type": "markdown",
   "id": "7097c0c7",
   "metadata": {},
   "source": []
  },
  {
   "cell_type": "markdown",
   "id": "c906b4a0",
   "metadata": {},
   "source": [
    "# Further Practice "
   ]
  },
  {
   "cell_type": "markdown",
   "id": "64d054e4",
   "metadata": {},
   "source": [
    "## Distribution of Blood Glucose Levels "
   ]
  },
  {
   "cell_type": "code",
   "execution_count": null,
   "id": "b873eb41",
   "metadata": {},
   "outputs": [],
   "source": [
    "histogram(fram.GLUCOSE,15)\n",
    "\n",
    "title('Distribution of Blood Glucose Levels')\n",
    "xlabel('Blood Glucose')\n",
    "ylabel('Frequency') "
   ]
  },
  {
   "cell_type": "markdown",
   "id": "9fc7d988",
   "metadata": {},
   "source": []
  },
  {
   "cell_type": "markdown",
   "id": "cc73be9c",
   "metadata": {},
   "source": [
    "## Boxplot: Gender versus Heart Rate "
   ]
  },
  {
   "cell_type": "code",
   "execution_count": null,
   "id": "20a84ae2",
   "metadata": {},
   "outputs": [],
   "source": [
    "boxplot(fram.HEARTRTE, fram.SEX,'Labels',{'Male','Female'})\n",
    "ylabel('Heart Rate')\n",
    "xlabel('Gender') "
   ]
  },
  {
   "cell_type": "markdown",
   "id": "7860f5de",
   "metadata": {},
   "source": []
  },
  {
   "cell_type": "markdown",
   "id": "472610c4",
   "metadata": {},
   "source": [
    "## Education vs BMI "
   ]
  },
  {
   "cell_type": "markdown",
   "id": "1163fb46",
   "metadata": {},
   "source": [
    "What is best way to show this relationship? "
   ]
  },
  {
   "cell_type": "code",
   "execution_count": null,
   "id": "db79ced1",
   "metadata": {},
   "outputs": [],
   "source": [
    "boxplot(fram.BMI,fram.educ)\n",
    "ylabel('BMI')\n",
    "xlabel('Education Level') "
   ]
  }
 ],
 "metadata": {
  "kernelspec": {
   "display_name": "Python 3 (ipykernel)",
   "language": "python",
   "name": "python3"
  },
  "language_info": {
   "codemirror_mode": {
    "name": "ipython",
    "version": 3
   },
   "file_extension": ".py",
   "mimetype": "text/x-python",
   "name": "python",
   "nbconvert_exporter": "python",
   "pygments_lexer": "ipython3",
   "version": "3.9.4"
  }
 },
 "nbformat": 4,
 "nbformat_minor": 5
}
