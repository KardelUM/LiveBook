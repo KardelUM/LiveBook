{
 "cells": [
  {
   "cell_type": "markdown",
   "id": "edebd7f7",
   "metadata": {},
   "source": [
    "# **Plotting in MATLAB** "
   ]
  },
  {
   "cell_type": "markdown",
   "id": "b5621766",
   "metadata": {},
   "source": [
    "This lecture will cover some of the plotting options in MATLAB. We will continue to use the Framingham data set from the previous lecture.  "
   ]
  },
  {
   "cell_type": "code",
   "execution_count": null,
   "id": "a337a797",
   "metadata": {},
   "outputs": [],
   "source": [
    "fram = readtable('../frmgham.xls'); "
   ]
  },
  {
   "cell_type": "markdown",
   "id": "dfe97649",
   "metadata": {},
   "source": [
    "For simplifying the following plotting exercises, we will just look at the first 100 patients in the data set. "
   ]
  },
  {
   "cell_type": "code",
   "execution_count": null,
   "id": "b5a9d3f5",
   "metadata": {},
   "outputs": [],
   "source": [
    "fram = head(fram,100); "
   ]
  },
  {
   "cell_type": "markdown",
   "id": "54a3a18d",
   "metadata": {},
   "source": [
    "## Plotting data sets "
   ]
  },
  {
   "cell_type": "markdown",
   "id": "e509c81d",
   "metadata": {},
   "source": [
    "There are many different ways to plot data in MATLAB and also several ways to generate these figures. Let's start by looking at the Age data from our revised Framingham data set. "
   ]
  },
  {
   "cell_type": "code",
   "execution_count": null,
   "id": "e4f6635e",
   "metadata": {},
   "outputs": [],
   "source": [
    "age = fram.AGE; "
   ]
  },
  {
   "cell_type": "markdown",
   "id": "3020a6e2",
   "metadata": {},
   "source": [
    "    Now that we have the Age array saved as a variable, there are two ways to plot it: "
   ]
  },
  {
   "cell_type": "markdown",
   "id": "8f90c79e",
   "metadata": {},
   "source": [
    " **Option 1**: Select the variable in the Workspace, go to  *Plots*  tab, and select one of the plot options, such as 2-D line graph.  "
   ]
  },
  {
   "cell_type": "markdown",
   "id": "56a5b06e",
   "metadata": {},
   "source": []
  },
  {
   "cell_type": "markdown",
   "id": "4d0068d3",
   "metadata": {},
   "source": [
    "MATLAB will then create the plot for you in a new figure window and display the corresponding plotting command in the Command Window. "
   ]
  },
  {
   "cell_type": "markdown",
   "id": "3dc750d0",
   "metadata": {},
   "source": [
    "     **Option 2:**  Use the  `plot ` command: "
   ]
  },
  {
   "cell_type": "code",
   "execution_count": null,
   "id": "ba9138e9",
   "metadata": {},
   "outputs": [],
   "source": [
    "plot(age) "
   ]
  },
  {
   "cell_type": "markdown",
   "id": "433bb863",
   "metadata": {},
   "source": [
    "The figure includes the ages of all 100 patients, with age given on the y-axis and the index on the x-axis. Clearly we need to add some information to this plot and find a better way to display the data. "
   ]
  },
  {
   "cell_type": "markdown",
   "id": "28f0cce0",
   "metadata": {},
   "source": [
    "When viewing the plot in a figure window, we can use the * Inser* t tab to add elements such as axis labels and titles. When you are done adding these features, there is an option to generate the code for these changes (click  *File * then * Generate Code)* . "
   ]
  },
  {
   "cell_type": "markdown",
   "id": "96dee976",
   "metadata": {},
   "source": [
    "As we saw, plotting with one variable outputs the index on the x-axis. However, the  `plot` * * command is typically used with two variables. Let's plot Age vs. BMI. First store the BMI data in an array. "
   ]
  },
  {
   "cell_type": "code",
   "execution_count": null,
   "id": "9e5d9ed3",
   "metadata": {},
   "outputs": [],
   "source": [
    "BMI = fram.BMI; "
   ]
  },
  {
   "cell_type": "markdown",
   "id": "12add3ea",
   "metadata": {},
   "source": [
    "In addition to adding this variable, we should include axis labels and a title to our plot. Because we are using discrete data points, it also makes sense to use a different marker symbol as opposed to a line. "
   ]
  },
  {
   "cell_type": "code",
   "execution_count": null,
   "id": "dddca6d9",
   "metadata": {},
   "outputs": [],
   "source": [
    "plot(age,BMI,'ro')\n",
    "xlabel('Age')\n",
    "ylabel('BMI')\n",
    "title('Patient Age vs BMI') "
   ]
  },
  {
   "cell_type": "markdown",
   "id": "f1591e42",
   "metadata": {},
   "source": [
    "## **Log-Log** "
   ]
  },
  {
   "cell_type": "markdown",
   "id": "3c9b0799",
   "metadata": {},
   "source": [
    "The  `loglog`  function simply generates a plot with a log scale on both axes. This may not necessarily be a useful tool for the variables in the Framingham data set, but let's try it on the Glucose data as an example.  "
   ]
  },
  {
   "cell_type": "code",
   "execution_count": null,
   "id": "3307a0f4",
   "metadata": {},
   "outputs": [],
   "source": [
    "loglog(fram.GLUCOSE,'o')\n",
    "grid on "
   ]
  },
  {
   "cell_type": "markdown",
   "id": "b994bb4c",
   "metadata": {},
   "source": [
    "## **Bar Graphs** "
   ]
  },
  {
   "cell_type": "markdown",
   "id": "a54e3ae8",
   "metadata": {},
   "source": [
    "Bar graphs are useful for comparing data from different groups.  "
   ]
  },
  {
   "cell_type": "markdown",
   "id": "a130b17e",
   "metadata": {},
   "source": [
    "Let's start with a simple example: use the  `bar ` command to create a graph showing the age of the first ten patients and another graph showing the BMI of the same group. "
   ]
  },
  {
   "cell_type": "code",
   "execution_count": null,
   "id": "c06d498e",
   "metadata": {},
   "outputs": [],
   "source": [
    "bar(age(1:10))\n",
    "xlabel(\"Patient\")\n",
    "ylabel(\"Age\") "
   ]
  },
  {
   "cell_type": "code",
   "execution_count": null,
   "id": "2e55496c",
   "metadata": {},
   "outputs": [],
   "source": [
    "bar(BMI(1:10))\n",
    "xlabel(\"Patient\")\n",
    "ylabel(\"BMI\") "
   ]
  },
  {
   "cell_type": "markdown",
   "id": "4a257488",
   "metadata": {},
   "source": [
    "Note that the BMI for Patient 2 is missing. "
   ]
  },
  {
   "cell_type": "markdown",
   "id": "49dc3705",
   "metadata": {},
   "source": [
    "For a more complicated example, create a bar graph that looks at gender versus average cigarettes smoked per day. First, we must create our bar graph categories and specify the order in which they will display: "
   ]
  },
  {
   "cell_type": "code",
   "execution_count": null,
   "id": "b9ff9e79",
   "metadata": {},
   "outputs": [],
   "source": [
    "sex = categorical({'male','female'});\n",
    "sex = reordercats(sex,{'male','female'}) "
   ]
  },
  {
   "cell_type": "markdown",
   "id": "c8713f0f",
   "metadata": {},
   "source": [
    "Next, extract the cigarettes per day data for each gender and find the mean values. In the Framingham data set, males are represented by a 1 and females by a 2. Also, note that we must convert from a table to an array in order to use the  *mean * function.  "
   ]
  },
  {
   "cell_type": "code",
   "execution_count": null,
   "id": "5846e6ef",
   "metadata": {},
   "outputs": [],
   "source": [
    "male_cigs = table2array(fram(fram.SEX == 1,'CIGPDAY'));\n",
    "female_cigs = table2array(fram(fram.SEX == 2,'CIGPDAY'));\n",
    "\n",
    "mean_male_cigs = mean(male_cigs);\n",
    "mean_female_cigs = mean(female_cigs);\n",
    "mean_cigs = [mean_male_cigs,mean_female_cigs] "
   ]
  },
  {
   "cell_type": "markdown",
   "id": "09e5f71d",
   "metadata": {},
   "source": [
    "Finally, create the bar graph with the  *bar * command. Let's make the bars blue and the bar width set to half of the available space. "
   ]
  },
  {
   "cell_type": "code",
   "execution_count": null,
   "id": "91b9691d",
   "metadata": {},
   "outputs": [],
   "source": [
    "bar(sex,mean_cigs,0.5,'blue')\n",
    "xlabel('Gender');\n",
    "ylabel('Average Cigarettes Smoked Per Day');\n",
    "title('Gender vs. Smoking Habits') "
   ]
  },
  {
   "cell_type": "markdown",
   "id": "4cac452a",
   "metadata": {},
   "source": [
    "## **Pie Chart** "
   ]
  },
  {
   "cell_type": "markdown",
   "id": "edefa339",
   "metadata": {},
   "source": [
    "Pie charts are useful for looking at the composition of a group. "
   ]
  },
  {
   "cell_type": "markdown",
   "id": "7e1545a9",
   "metadata": {},
   "source": [
    "Let's create a pie chart which shows the gender distribution of the first 20 patients. The first step is to create an array which contains the quantity of each gender using the  `sum` * * function. "
   ]
  },
  {
   "cell_type": "code",
   "execution_count": null,
   "id": "c0414c02",
   "metadata": {},
   "outputs": [],
   "source": [
    "gender_count = [sum(fram.SEX(1:20) == 1),sum(fram.SEX(1:20) == 2)] "
   ]
  },
  {
   "cell_type": "markdown",
   "id": "a9c5fd91",
   "metadata": {},
   "source": [
    "The  `pie` * * function can then be used to display the elements of this matrix as a pie chart. "
   ]
  },
  {
   "cell_type": "code",
   "execution_count": null,
   "id": "d8c42662",
   "metadata": {},
   "outputs": [],
   "source": [
    "pie(gender_count)\n",
    "legend({'Males','Females'})\n",
    "title('Gender Distribution') "
   ]
  },
  {
   "cell_type": "markdown",
   "id": "416ee04d",
   "metadata": {},
   "source": [
    "Now we will make a pie chart which shows the education levels (1 to 4) for all 100 patients. Again, the first step is extracting these four values and putting them into an array. We will use a for loop to create this array. "
   ]
  },
  {
   "cell_type": "code",
   "execution_count": null,
   "id": "d9a1a75b",
   "metadata": {},
   "outputs": [],
   "source": [
    "for i=1:4\n",
    "    education_count(i)=sum(fram.educ==i);\n",
    "end\n",
    "education_count "
   ]
  },
  {
   "cell_type": "markdown",
   "id": "ebbf347f",
   "metadata": {},
   "source": [
    "We need to make sure that the sum of our array elements is equal to 100, as we want to make sure the entire patient group is represented in the pie chart "
   ]
  },
  {
   "cell_type": "code",
   "execution_count": null,
   "id": "4dc51899",
   "metadata": {},
   "outputs": [],
   "source": [
    "sum(education_count) "
   ]
  },
  {
   "cell_type": "markdown",
   "id": "61baeadf",
   "metadata": {},
   "source": [
    "We know that the Framingham data set contains some missing values. Confirm that this is the case with our education data. "
   ]
  },
  {
   "cell_type": "code",
   "execution_count": null,
   "id": "2fee01d7",
   "metadata": {},
   "outputs": [],
   "source": [
    "nan = sum(isnan(fram.educ)) "
   ]
  },
  {
   "cell_type": "markdown",
   "id": "3527b35a",
   "metadata": {},
   "source": [
    "As expected, we are missing six data points, which would bring the total to 100. Add the missing data count to the education array so that it is incorported into the pie chart. "
   ]
  },
  {
   "cell_type": "code",
   "execution_count": null,
   "id": "579476db",
   "metadata": {},
   "outputs": [],
   "source": [
    "education_count(5) = nan;\n",
    "education_count "
   ]
  },
  {
   "cell_type": "markdown",
   "id": "86b94bec",
   "metadata": {},
   "source": [
    "We are finally ready to make the pie chart.  "
   ]
  },
  {
   "cell_type": "code",
   "execution_count": null,
   "id": "b29b5a84",
   "metadata": {},
   "outputs": [],
   "source": [
    "labels = {'1', '2', '3', '4','No Data'}\n",
    "pie(education_count)\n",
    "legend(labels)\n",
    "title('Framingham Education Levels') "
   ]
  },
  {
   "cell_type": "markdown",
   "id": "08bdb0dc",
   "metadata": {},
   "source": [
    "## **Histograms** "
   ]
  },
  {
   "cell_type": "markdown",
   "id": "abb8a73c",
   "metadata": {},
   "source": [
    "Histograms are used to look at the distribution of continuous data. The data set is displayed as a series of bins, which we can adjust to our preferences. "
   ]
  },
  {
   "cell_type": "markdown",
   "id": "64a44f4d",
   "metadata": {},
   "source": [
    "Use the  `histogram` * * command to look at the distribution of age in the 100 patients (we created a 2-D line plot of this data earlier in the lesson). "
   ]
  },
  {
   "cell_type": "code",
   "execution_count": null,
   "id": "35bcb244",
   "metadata": {},
   "outputs": [],
   "source": [
    "histogram(age)\n",
    "xlabel(\"Age\")\n",
    "ylabel(\"Frequency\") "
   ]
  },
  {
   "cell_type": "markdown",
   "id": "46b06f9e",
   "metadata": {},
   "source": [
    "The histogram plot is much more informative and easier to read than our original 2-D line plot from earlier in the lesson. We can easily see which ages are more common and determine if the distribution is fairly normal. "
   ]
  },
  {
   "cell_type": "markdown",
   "id": "888789f7",
   "metadata": {},
   "source": [
    "Next, create a histogram showing the heart rate distribution and assign it to a variable,  *HR_histogram* .  "
   ]
  },
  {
   "cell_type": "code",
   "execution_count": null,
   "id": "f7770316",
   "metadata": {},
   "outputs": [],
   "source": [
    "HR_histogram = histogram(fram.HEARTRTE);\n",
    "xlabel('Heart Rate, bpm')\n",
    "ylabel('Frequency') "
   ]
  },
  {
   "cell_type": "markdown",
   "id": "a4cdf6e5",
   "metadata": {},
   "source": [
    "By assigning the histogram to a variable, we can now use dot notation to adjust the plot properties. Break down the data into 10 bins (using  `.NumBins` ) and change the bin color (using  `.FaceColor` ).  "
   ]
  },
  {
   "cell_type": "code",
   "execution_count": null,
   "id": "0d615ffd",
   "metadata": {},
   "outputs": [],
   "source": [
    "HR_histogram.NumBins = 10;\n",
    "HR_histogram.FaceColor = 'cyan'; "
   ]
  },
  {
   "cell_type": "markdown",
   "id": "dfeff948",
   "metadata": {},
   "source": [
    "Another useful feature of the  `histogram`  command in MATLAB is the ability to compare two distributions in the same figure. For example, we can look at the distribution of total cholesterol in males versus females. Create an array containing the cholesterol data for males and add the code \" `hold on\" ` afterwards. "
   ]
  },
  {
   "cell_type": "code",
   "execution_count": null,
   "id": "a775b7cf",
   "metadata": {},
   "outputs": [],
   "source": [
    "male_cholesterol = fram.TOTCHOL(fram.SEX==1);\n",
    "histogram(male_cholesterol, 10)\n",
    "xlabel(\"Cholesterol\")\n",
    "ylabel(\"Frequency\")\n",
    "hold on "
   ]
  },
  {
   "cell_type": "markdown",
   "id": "fbcba47c",
   "metadata": {},
   "source": [
    "Now create a histogram for the female cholesterol data. The histogram should be added on top of the previous plot "
   ]
  },
  {
   "cell_type": "code",
   "execution_count": null,
   "id": "4589a683",
   "metadata": {},
   "outputs": [],
   "source": [
    "female_cholesterol = fram.TOTCHOL(fram.SEX == 2);\n",
    "histogram(female_cholesterol, 10)\n",
    "hold off "
   ]
  },
  {
   "cell_type": "markdown",
   "id": "5a59d118",
   "metadata": {},
   "source": [
    "## Boxplots "
   ]
  },
  {
   "cell_type": "markdown",
   "id": "db80e6a4",
   "metadata": {},
   "source": [
    "Boxplots are also helpful for looking at data distribution. In addition to showing the shape of the distribution, boxplots display the median value, the interquartile range, minimum/maxmimum values, and outlier points. "
   ]
  },
  {
   "cell_type": "markdown",
   "id": "803dc960",
   "metadata": {},
   "source": [
    "Use the ` boxplot`  command to examine total cholesterol versus sex. "
   ]
  },
  {
   "cell_type": "code",
   "execution_count": null,
   "id": "6c9198e1",
   "metadata": {},
   "outputs": [],
   "source": [
    "boxplot(fram.TOTCHOL,fram.SEX,'Labels',{'Male','Female'})\n",
    "xlabel('Gender')\n",
    "ylabel('Total Cholesterol') "
   ]
  },
  {
   "cell_type": "markdown",
   "id": "d54f8848",
   "metadata": {},
   "source": [
    "As another example, create a boxplot showing how blood glucose varies between the patients without diabetes (0) and with diabetes (1). "
   ]
  },
  {
   "cell_type": "code",
   "execution_count": null,
   "id": "e48c2919",
   "metadata": {},
   "outputs": [],
   "source": [
    "boxplot(fram.GLUCOSE,fram.DIABETES,'Labels',{'Non-Diabetic','Diabetic'})\n",
    "xlabel('Diabetes Status')\n",
    "ylabel('Blood Glucose Level') "
   ]
  },
  {
   "cell_type": "markdown",
   "id": "389dc50e",
   "metadata": {},
   "source": [
    "## Correlation "
   ]
  },
  {
   "cell_type": "markdown",
   "id": "9a1f949d",
   "metadata": {},
   "source": [
    "MATLAB has many tools for examining the relationship between variables. Use the  `lsline` * * command to plot the least squares regression line for systolic and diastolic blood pressure.  "
   ]
  },
  {
   "cell_type": "code",
   "execution_count": null,
   "id": "801672c4",
   "metadata": {},
   "outputs": [],
   "source": [
    "scatter(fram.SYSBP,fram.DIABP)\n",
    "lsline\n",
    "xlabel('Systolic BP, mmHg');\n",
    "ylabel('Diastolic BP, mmHg'); "
   ]
  },
  {
   "cell_type": "markdown",
   "id": "2b35627e",
   "metadata": {},
   "source": [
    "Next, use the  `corr` * * function to calculate the correlation coefficient between systolic and diastolic blood pressure. The correlation coefficient,  *r, * indicates the strength and direction of the relationship between the two variables. "
   ]
  },
  {
   "cell_type": "code",
   "execution_count": null,
   "id": "b13c4f84",
   "metadata": {},
   "outputs": [],
   "source": [
    "r = corr(fram.SYSBP,fram.DIABP) "
   ]
  },
  {
   "cell_type": "markdown",
   "id": "89e07093",
   "metadata": {},
   "source": [
    "The coefficient of determination,  , is equal to the correlation coefficient raised to the power of 2: "
   ]
  },
  {
   "cell_type": "code",
   "execution_count": null,
   "id": "e3e1ce63",
   "metadata": {},
   "outputs": [],
   "source": [
    "r ^ 2 "
   ]
  },
  {
   "cell_type": "markdown",
   "id": "c5de14ed",
   "metadata": {},
   "source": [
    "The coefficient of determination measures the amount of variance of one variable that can be explained by the other. In our example,   is equal to 0.5519. This means that 55.2% of the variance in the diastolic blood pressure can be explained by the systolic blood pressure data. This can be used as an indicator for how good of a fit the least squares regression line is.  "
   ]
  },
  {
   "cell_type": "markdown",
   "id": "7ceeb217",
   "metadata": {},
   "source": [
    "For another example, we will determine the coefficients of correlation and determination between BMI and blood glucose levels.  "
   ]
  },
  {
   "cell_type": "markdown",
   "id": "44e78b78",
   "metadata": {},
   "source": [
    "Previous work with these variables showed that there is data missing from both the BMI and Glucose data sets. We must specify for the  `corr` * * function to only use rows that do not have missing values. "
   ]
  },
  {
   "cell_type": "code",
   "execution_count": null,
   "id": "90888ab9",
   "metadata": {},
   "outputs": [],
   "source": [
    "r_BMI_glucose = corr(fram.BMI,fram.GLUCOSE,\"rows\",\"complete\")\n",
    "r2_BMI_glucose = r_BMI_glucose .^ 2 "
   ]
  },
  {
   "cell_type": "markdown",
   "id": "7975a26d",
   "metadata": {},
   "source": [
    "The correlation between these two variables is not nearly as strong as in the previous example with the systolic and diastolic blood pressures. Create a scatter plot and least-squares line to better visualize the relationship between BMI and blood glucose levels. "
   ]
  },
  {
   "cell_type": "code",
   "execution_count": null,
   "id": "5aae29b3",
   "metadata": {},
   "outputs": [],
   "source": [
    "scatter(fram.BMI, fram.GLUCOSE)\n",
    "lsline "
   ]
  },
  {
   "cell_type": "markdown",
   "id": "b0f6ccb6",
   "metadata": {},
   "source": [
    "## Visualizing Distributions "
   ]
  },
  {
   "cell_type": "markdown",
   "id": "115ec6b0",
   "metadata": {},
   "source": [
    "The  `gscatter`  function allows us to plot two variables against each other, such as Glucose and BMI, and then separate those data points by group. The grouping variable must be in the form of a categorical variable, such as Diabetes. "
   ]
  },
  {
   "cell_type": "markdown",
   "id": "e25dea08",
   "metadata": {},
   "source": [
    "Use  `gscatter`  to plot glucose versus BMI, grouped by diabetes. "
   ]
  },
  {
   "cell_type": "code",
   "execution_count": null,
   "id": "91402d84",
   "metadata": {},
   "outputs": [],
   "source": [
    "gscatter(fram.GLUCOSE, fram.BMI, fram.DIABETES)\n",
    "xlabel('Glucose')\n",
    "ylabel('BMI')\n",
    "legend('Non-Diabetic','Diabetic') "
   ]
  },
  {
   "cell_type": "markdown",
   "id": "2279c0e1",
   "metadata": {},
   "source": [
    "In this example,  `gscatter`  makes it easy to see that essentially all of the data points at high glucose levels belong to patients with diabetes. "
   ]
  },
  {
   "cell_type": "markdown",
   "id": "b1db2b38",
   "metadata": {},
   "source": [
    "Repeat this process with systolic blood pressure versus total cholesterol, grouped by cardiovascular disease. "
   ]
  },
  {
   "cell_type": "code",
   "execution_count": null,
   "id": "4f79fe15",
   "metadata": {},
   "outputs": [],
   "source": [
    "gscatter(fram.SYSBP,fram.TOTCHOL,fram.CVD)\n",
    "xlabel('Systolic Blood Pressure')\n",
    "ylabel('Total Cholesterol') "
   ]
  },
  {
   "cell_type": "markdown",
   "id": "141d4a18",
   "metadata": {},
   "source": [
    "Unlike the last example, there aren't any apparents trends between the data groups. Upon close inspection, it appears that a slight majority of patients with higher blood pressure also suffered from CVD. In some cases, we may want to use this tool to help confirm that the data points are equally distributed throughout the different categories. "
   ]
  },
  {
   "cell_type": "markdown",
   "id": "ff38e4ce",
   "metadata": {},
   "source": [
    "# Further Practice "
   ]
  },
  {
   "cell_type": "markdown",
   "id": "50270430",
   "metadata": {},
   "source": [
    "## Distribution of Blood Glucose Levels "
   ]
  },
  {
   "cell_type": "code",
   "execution_count": null,
   "id": "c20312bd",
   "metadata": {},
   "outputs": [],
   "source": [
    "histogram(fram.GLUCOSE,15)\n",
    "\n",
    "title('Distribution of Blood Glucose Levels')\n",
    "xlabel('Blood Glucose')\n",
    "ylabel('Frequency') "
   ]
  },
  {
   "cell_type": "markdown",
   "id": "8fac642f",
   "metadata": {},
   "source": [
    "## Boxplot: Gender versus Heart Rate "
   ]
  },
  {
   "cell_type": "code",
   "execution_count": null,
   "id": "d0d500b0",
   "metadata": {},
   "outputs": [],
   "source": [
    "boxplot(fram.HEARTRTE, fram.SEX,'Labels',{'Male','Female'})\n",
    "ylabel('Heart Rate')\n",
    "xlabel('Gender') "
   ]
  },
  {
   "cell_type": "markdown",
   "id": "c09cbf42",
   "metadata": {},
   "source": [
    "## Education vs BMI "
   ]
  },
  {
   "cell_type": "markdown",
   "id": "9e10a902",
   "metadata": {},
   "source": [
    "What is best way to show this relationship? "
   ]
  },
  {
   "cell_type": "code",
   "execution_count": null,
   "id": "4336a01b",
   "metadata": {},
   "outputs": [],
   "source": [
    "boxplot(fram.BMI,fram.educ)\n",
    "ylabel('BMI')\n",
    "xlabel('Education Level') "
   ]
  }
 ],
 "metadata": {
  "kernelspec": {
   "display_name": "Python 3 (ipykernel)",
   "language": "python",
   "name": "python3"
  },
  "language_info": {
   "codemirror_mode": {
    "name": "ipython",
    "version": 3
   },
   "file_extension": ".py",
   "mimetype": "text/x-python",
   "name": "python",
   "nbconvert_exporter": "python",
   "pygments_lexer": "ipython3",
   "version": "3.9.4"
  }
 },
 "nbformat": 4,
 "nbformat_minor": 5
}
